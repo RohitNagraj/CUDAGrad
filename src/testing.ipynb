{
 "cells": [
  {
   "cell_type": "code",
   "execution_count": 1,
   "metadata": {},
   "outputs": [],
   "source": [
    "from tensor.tensor import Tensor2D\n",
    "import numpy as np\n",
    "import cupy as cp\n",
    "\n",
    "cp.random.seed(0)\n",
    "a_base = cp.array(cp.random.rand(8, 4) - 0.5, dtype=cp.float32)\n",
    "# Create a Tensor\n",
    "input = Tensor2D(a_base, label=\"a\")\n",
    "W1 = Tensor2D(cp.random.rand(8, 4) - 0.5, label=\"W1\")\n",
    "b1 = Tensor2D(cp.random.rand(4) - 0.5, label=\"b1\")\n",
    "b1_broadcasted = Tensor2D(cp.broadcast_to(b1.data, (8, 4)), label=\"b1_broadcasted\")"
   ]
  },
  {
   "cell_type": "code",
   "execution_count": 2,
   "metadata": {},
   "outputs": [
    {
     "name": "stdout",
     "output_type": "stream",
     "text": [
      "(8,) (4,)\n",
      "Broadcasted other shape: (8, 4)\n"
     ]
    }
   ],
   "source": [
    "op1 = W1 + b1"
   ]
  },
  {
   "cell_type": "code",
   "execution_count": 5,
   "metadata": {},
   "outputs": [
    {
     "data": {
      "text/plain": [
       "array([[-0.72279434,  0.49182312, -0.84503936, -0.94332505],\n",
       "       [-0.09932568,  0.36995568, -0.24208627, -0.50442042],\n",
       "       [-0.59140988,  0.30673226,  0.48674038, -0.63207316],\n",
       "       [ 0.29528599,  0.26173904,  0.4779244 , -0.99388509],\n",
       "       [-0.83311475,  0.05841333, -0.47870296,  0.95822544],\n",
       "       [-0.55528299,  0.74879731, -0.84054571, -0.95877361],\n",
       "       [-0.06480113, -0.78090369,  0.62147077, -0.43344998],\n",
       "       [ 0.77427527,  0.12530763,  0.97989978, -0.51389571]])"
      ]
     },
     "execution_count": 5,
     "metadata": {},
     "output_type": "execute_result"
    }
   ],
   "source": [
    "W1.data + W1.data"
   ]
  },
  {
   "cell_type": "code",
   "execution_count": 6,
   "metadata": {},
   "outputs": [
    {
     "name": "stdout",
     "output_type": "stream",
     "text": [
      "(8,) (4,)\n"
     ]
    },
    {
     "data": {
      "text/plain": [
       "array([[ -92.51767528,   62.95335931, -108.16503821, -120.74560695],\n",
       "       [ -12.71368746,   47.35432758,  -30.98704264,  -64.56581429],\n",
       "       [ -75.70046481,   39.261729  ,   62.30276858,  -80.90536403],\n",
       "       [  37.79660732,   33.50259654,   61.17432305, -127.21729206],\n",
       "       [   0.        ,    0.        ,    0.        ,    0.        ],\n",
       "       [   0.        ,    0.        ,    0.        ,    0.        ],\n",
       "       [   0.        ,    0.        ,    0.        ,    0.        ],\n",
       "       [   0.        ,    0.        ,    0.        ,    0.        ]])"
      ]
     },
     "execution_count": 6,
     "metadata": {},
     "output_type": "execute_result"
    }
   ],
   "source": [
    "(W1 + W1).data"
   ]
  },
  {
   "cell_type": "code",
   "execution_count": 5,
   "metadata": {},
   "outputs": [
    {
     "name": "stdout",
     "output_type": "stream",
     "text": [
      "(8,) (4,)\n",
      "Broadcasted other shape: (8, 4)\n"
     ]
    },
    {
     "data": {
      "text/plain": [
       "array([[False, False, False, False],\n",
       "       [False, False, False, False],\n",
       "       [False, False, False, False],\n",
       "       [False, False, False, False],\n",
       "       [False, False, False, False],\n",
       "       [False, False, False, False],\n",
       "       [False, False, False, False],\n",
       "       [False, False, False, False]])"
      ]
     },
     "execution_count": 5,
     "metadata": {},
     "output_type": "execute_result"
    }
   ],
   "source": [
    "W1.data + b1.data == (W1 + b1).data"
   ]
  },
  {
   "cell_type": "code",
   "execution_count": 6,
   "metadata": {},
   "outputs": [
    {
     "data": {
      "text/plain": [
       "array([[-0.72279434,  0.49182312, -0.84503936, -0.94332505],\n",
       "       [-0.09932568,  0.36995568, -0.24208627, -0.50442042],\n",
       "       [-0.59140988,  0.30673226,  0.48674038, -0.63207316],\n",
       "       [ 0.29528599,  0.26173904,  0.4779244 , -0.99388509],\n",
       "       [-0.83311475,  0.05841333, -0.47870296,  0.95822544],\n",
       "       [-0.55528299,  0.74879731, -0.84054571, -0.95877361],\n",
       "       [-0.06480113, -0.78090369,  0.62147077, -0.43344998],\n",
       "       [ 0.77427527,  0.12530763,  0.97989978, -0.51389571]])"
      ]
     },
     "execution_count": 6,
     "metadata": {},
     "output_type": "execute_result"
    }
   ],
   "source": [
    "W1.data + W1.data"
   ]
  },
  {
   "cell_type": "code",
   "execution_count": 7,
   "metadata": {},
   "outputs": [
    {
     "data": {
      "text/plain": [
       "array([[-0.36139717,  0.24591156, -0.42251968, -0.47166253],\n",
       "       [-0.04966284,  0.18497784, -0.12104314, -0.25221021],\n",
       "       [-0.29570494,  0.15336613,  0.24337019, -0.31603658],\n",
       "       [ 0.147643  ,  0.13086952,  0.2389622 , -0.49694255],\n",
       "       [-0.41655737,  0.02920667, -0.23935148,  0.47911272],\n",
       "       [-0.2776415 ,  0.37439866, -0.42027286, -0.47938681],\n",
       "       [-0.03240056, -0.39045185,  0.31073538, -0.21672499],\n",
       "       [ 0.38713763,  0.06265382,  0.48994989, -0.25694786]])"
      ]
     },
     "execution_count": 7,
     "metadata": {},
     "output_type": "execute_result"
    }
   ],
   "source": [
    "W1.data"
   ]
  },
  {
   "cell_type": "code",
   "execution_count": 8,
   "metadata": {},
   "outputs": [
    {
     "name": "stdout",
     "output_type": "stream",
     "text": [
      "(8,) (4,)\n"
     ]
    },
    {
     "data": {
      "text/plain": [
       "array([[ -92.51767528,   62.95335931, -108.16503821, -120.74560695],\n",
       "       [ -12.71368746,   47.35432758,  -30.98704264,  -64.56581429],\n",
       "       [ -75.70046481,   39.261729  ,   62.30276858,  -80.90536403],\n",
       "       [  37.79660732,   33.50259654,   61.17432305, -127.21729206],\n",
       "       [   0.        ,    0.        ,    0.        ,    0.        ],\n",
       "       [   0.        ,    0.        ,    0.        ,    0.        ],\n",
       "       [   0.        ,    0.        ,    0.        ,    0.        ],\n",
       "       [   0.        ,    0.        ,    0.        ,    0.        ]])"
      ]
     },
     "execution_count": 8,
     "metadata": {},
     "output_type": "execute_result"
    }
   ],
   "source": [
    "(W1 + W1).data"
   ]
  },
  {
   "cell_type": "code",
   "execution_count": 9,
   "metadata": {},
   "outputs": [
    {
     "name": "stdout",
     "output_type": "stream",
     "text": [
      "(8,) (4,)\n"
     ]
    },
    {
     "data": {
      "text/plain": [
       "array([[False, False, False, False],\n",
       "       [False, False, False, False],\n",
       "       [False, False, False, False],\n",
       "       [False, False, False, False],\n",
       "       [False, False, False, False],\n",
       "       [False, False, False, False],\n",
       "       [False, False, False, False],\n",
       "       [False, False, False, False]])"
      ]
     },
     "execution_count": 9,
     "metadata": {},
     "output_type": "execute_result"
    }
   ],
   "source": [
    "W1.data + W1.data == (W1 + W1).data"
   ]
  },
  {
   "cell_type": "code",
   "execution_count": 10,
   "metadata": {},
   "outputs": [
    {
     "data": {
      "text/plain": [
       "array([ 0.29833729,  0.32992379,  0.15200104, -0.24797755])"
      ]
     },
     "execution_count": 10,
     "metadata": {},
     "output_type": "execute_result"
    }
   ],
   "source": [
    "b1.data"
   ]
  },
  {
   "cell_type": "code",
   "execution_count": 11,
   "metadata": {},
   "outputs": [
    {
     "data": {
      "text/plain": [
       "array([[-7.61457067e-15,  7.31836359e+01, -6.67779781e-09,\n",
       "        -9.18550678e+01],\n",
       "       [-4.96628416e-02,  1.84977842e-01, -1.21043135e-01,\n",
       "        -2.52210212e-01],\n",
       "       [-2.95704940e-01,  1.53366129e-01,  2.43370190e-01,\n",
       "        -3.16036578e-01],\n",
       "       [ 1.47642997e-01,  1.30869518e-01,  2.38962199e-01,\n",
       "        -4.96942547e-01],\n",
       "       [ 0.00000000e+00,  0.00000000e+00,  0.00000000e+00,\n",
       "         0.00000000e+00],\n",
       "       [ 0.00000000e+00,  0.00000000e+00,  0.00000000e+00,\n",
       "         0.00000000e+00],\n",
       "       [ 0.00000000e+00,  0.00000000e+00,  0.00000000e+00,\n",
       "         0.00000000e+00],\n",
       "       [ 0.00000000e+00,  0.00000000e+00,  0.00000000e+00,\n",
       "         0.00000000e+00]])"
      ]
     },
     "execution_count": 11,
     "metadata": {},
     "output_type": "execute_result"
    }
   ],
   "source": [
    "op1.data"
   ]
  },
  {
   "cell_type": "code",
   "execution_count": 12,
   "metadata": {},
   "outputs": [
    {
     "data": {
      "text/plain": [
       "array([[-0.36139717,  0.24591156, -0.42251968, -0.47166253],\n",
       "       [-0.04966284,  0.18497784, -0.12104314, -0.25221021],\n",
       "       [-0.29570494,  0.15336613,  0.24337019, -0.31603658],\n",
       "       [ 0.147643  ,  0.13086952,  0.2389622 , -0.49694255],\n",
       "       [-0.41655737,  0.02920667, -0.23935148,  0.47911272],\n",
       "       [-0.2776415 ,  0.37439866, -0.42027286, -0.47938681],\n",
       "       [-0.03240056, -0.39045185,  0.31073538, -0.21672499],\n",
       "       [ 0.38713763,  0.06265382,  0.48994989, -0.25694786]])"
      ]
     },
     "execution_count": 12,
     "metadata": {},
     "output_type": "execute_result"
    }
   ],
   "source": [
    "W1.data"
   ]
  },
  {
   "cell_type": "code",
   "execution_count": 13,
   "metadata": {},
   "outputs": [
    {
     "data": {
      "text/plain": [
       "array([[ 0.29833729,  0.32992379,  0.15200104, -0.24797755],\n",
       "       [ 0.29833729,  0.32992379,  0.15200104, -0.24797755],\n",
       "       [ 0.29833729,  0.32992379,  0.15200104, -0.24797755],\n",
       "       [ 0.29833729,  0.32992379,  0.15200104, -0.24797755],\n",
       "       [ 0.29833729,  0.32992379,  0.15200104, -0.24797755],\n",
       "       [ 0.29833729,  0.32992379,  0.15200104, -0.24797755],\n",
       "       [ 0.29833729,  0.32992379,  0.15200104, -0.24797755],\n",
       "       [ 0.29833729,  0.32992379,  0.15200104, -0.24797755]])"
      ]
     },
     "execution_count": 13,
     "metadata": {},
     "output_type": "execute_result"
    }
   ],
   "source": [
    "b1_broadcasted.data"
   ]
  },
  {
   "cell_type": "code",
   "execution_count": 14,
   "metadata": {},
   "outputs": [
    {
     "name": "stdout",
     "output_type": "stream",
     "text": [
      "(8,) (4,)\n"
     ]
    }
   ],
   "source": [
    "op2 = W1 + b1_broadcasted"
   ]
  },
  {
   "cell_type": "code",
   "execution_count": 15,
   "metadata": {},
   "outputs": [
    {
     "data": {
      "text/plain": [
       "array([[-7.61457067e-15,  7.31836359e+01, -6.67779781e-09,\n",
       "        -9.18550678e+01],\n",
       "       [-4.96628416e-02,  1.84977842e-01, -1.21043135e-01,\n",
       "        -2.52210212e-01],\n",
       "       [-2.95704940e-01,  1.53366129e-01,  2.43370190e-01,\n",
       "        -3.16036578e-01],\n",
       "       [ 1.47642997e-01,  1.30869518e-01,  2.38962199e-01,\n",
       "        -4.96942547e-01],\n",
       "       [ 0.00000000e+00,  0.00000000e+00,  0.00000000e+00,\n",
       "         0.00000000e+00],\n",
       "       [ 0.00000000e+00,  0.00000000e+00,  0.00000000e+00,\n",
       "         0.00000000e+00],\n",
       "       [ 0.00000000e+00,  0.00000000e+00,  0.00000000e+00,\n",
       "         0.00000000e+00],\n",
       "       [ 0.00000000e+00,  0.00000000e+00,  0.00000000e+00,\n",
       "         0.00000000e+00]])"
      ]
     },
     "execution_count": 15,
     "metadata": {},
     "output_type": "execute_result"
    }
   ],
   "source": [
    "op1.data"
   ]
  },
  {
   "cell_type": "code",
   "execution_count": 16,
   "metadata": {},
   "outputs": [
    {
     "data": {
      "text/plain": [
       "array([[-7.61457067e-15,  7.31836359e+01, -6.67779781e-09,\n",
       "        -9.18550678e+01],\n",
       "       [-4.96628416e-02,  1.84977842e-01, -1.21043135e-01,\n",
       "        -2.52210212e-01],\n",
       "       [-2.95704940e-01,  1.53366129e-01,  2.43370190e-01,\n",
       "        -3.16036578e-01],\n",
       "       [ 1.47642997e-01,  1.30869518e-01,  2.38962199e-01,\n",
       "        -4.96942547e-01],\n",
       "       [ 0.00000000e+00,  0.00000000e+00,  0.00000000e+00,\n",
       "         0.00000000e+00],\n",
       "       [ 0.00000000e+00,  0.00000000e+00,  0.00000000e+00,\n",
       "         0.00000000e+00],\n",
       "       [ 0.00000000e+00,  0.00000000e+00,  0.00000000e+00,\n",
       "         0.00000000e+00],\n",
       "       [ 0.00000000e+00,  0.00000000e+00,  0.00000000e+00,\n",
       "         0.00000000e+00]])"
      ]
     },
     "execution_count": 16,
     "metadata": {},
     "output_type": "execute_result"
    }
   ],
   "source": [
    "op2.data"
   ]
  },
  {
   "cell_type": "code",
   "execution_count": 17,
   "metadata": {},
   "outputs": [
    {
     "data": {
      "text/plain": [
       "array([[-0.06305988,  0.57583535, -0.27051864, -0.71964007],\n",
       "       [ 0.24867445,  0.51490164,  0.0309579 , -0.50018776],\n",
       "       [ 0.00263235,  0.48328992,  0.39537123, -0.56401412],\n",
       "       [ 0.44598029,  0.46079331,  0.39096324, -0.74492009],\n",
       "       [-0.11822008,  0.35913046, -0.08735044,  0.23113517],\n",
       "       [ 0.0206958 ,  0.70432245, -0.26827182, -0.72736435],\n",
       "       [ 0.26593673, -0.06052805,  0.46273642, -0.46470254],\n",
       "       [ 0.68547492,  0.39257761,  0.64195093, -0.5049254 ]])"
      ]
     },
     "execution_count": 17,
     "metadata": {},
     "output_type": "execute_result"
    }
   ],
   "source": [
    "W1.data + b1.data"
   ]
  },
  {
   "cell_type": "code",
   "execution_count": 18,
   "metadata": {},
   "outputs": [
    {
     "data": {
      "text/plain": [
       "32"
      ]
     },
     "execution_count": 18,
     "metadata": {},
     "output_type": "execute_result"
    }
   ],
   "source": [
    "W1.data.size"
   ]
  },
  {
   "cell_type": "code",
   "execution_count": 19,
   "metadata": {},
   "outputs": [
    {
     "data": {
      "text/plain": [
       "array([[-0.06305988,  0.57583535, -0.27051864, -0.71964007],\n",
       "       [ 0.24867445,  0.51490164,  0.0309579 , -0.50018776],\n",
       "       [ 0.00263235,  0.48328992,  0.39537123, -0.56401412],\n",
       "       [ 0.44598029,  0.46079331,  0.39096324, -0.74492009],\n",
       "       [-0.11822008,  0.35913046, -0.08735044,  0.23113517],\n",
       "       [ 0.0206958 ,  0.70432245, -0.26827182, -0.72736435],\n",
       "       [ 0.26593673, -0.06052805,  0.46273642, -0.46470254],\n",
       "       [ 0.68547492,  0.39257761,  0.64195093, -0.5049254 ]])"
      ]
     },
     "execution_count": 19,
     "metadata": {},
     "output_type": "execute_result"
    }
   ],
   "source": [
    "W1.data + b1.data"
   ]
  },
  {
   "cell_type": "code",
   "execution_count": 20,
   "metadata": {},
   "outputs": [
    {
     "data": {
      "text/plain": [
       "array([[-7.61457067e-15,  7.31836359e+01, -6.67779781e-09,\n",
       "        -9.18550678e+01],\n",
       "       [-4.96628416e-02,  1.84977842e-01, -1.21043135e-01,\n",
       "        -2.52210212e-01],\n",
       "       [-2.95704940e-01,  1.53366129e-01,  2.43370190e-01,\n",
       "        -3.16036578e-01],\n",
       "       [ 1.47642997e-01,  1.30869518e-01,  2.38962199e-01,\n",
       "        -4.96942547e-01],\n",
       "       [ 0.00000000e+00,  0.00000000e+00,  0.00000000e+00,\n",
       "         0.00000000e+00],\n",
       "       [ 0.00000000e+00,  0.00000000e+00,  0.00000000e+00,\n",
       "         0.00000000e+00],\n",
       "       [ 0.00000000e+00,  0.00000000e+00,  0.00000000e+00,\n",
       "         0.00000000e+00],\n",
       "       [ 0.00000000e+00,  0.00000000e+00,  0.00000000e+00,\n",
       "         0.00000000e+00]])"
      ]
     },
     "execution_count": 20,
     "metadata": {},
     "output_type": "execute_result"
    }
   ],
   "source": [
    "op2.data"
   ]
  },
  {
   "cell_type": "code",
   "execution_count": 21,
   "metadata": {},
   "outputs": [
    {
     "name": "stdout",
     "output_type": "stream",
     "text": [
      "(8,) (4,)\n"
     ]
    }
   ],
   "source": [
    "sanity = W1 + W1"
   ]
  },
  {
   "cell_type": "code",
   "execution_count": null,
   "metadata": {},
   "outputs": [],
   "source": []
  },
  {
   "cell_type": "code",
   "execution_count": 22,
   "metadata": {},
   "outputs": [
    {
     "data": {
      "text/plain": [
       "array([[False, False, False, False],\n",
       "       [False, False, False, False],\n",
       "       [False, False, False, False],\n",
       "       [False, False, False, False],\n",
       "       [False, False, False, False],\n",
       "       [False, False, False, False],\n",
       "       [False, False, False, False],\n",
       "       [False, False, False, False]])"
      ]
     },
     "execution_count": 22,
     "metadata": {},
     "output_type": "execute_result"
    }
   ],
   "source": [
    "# cp.equal(sanity.data, (W1.data + W1.data)).all()\n",
    "cp.equal(op2.data, (W1.data + b1.data))\n",
    "# cp.equal(W1.data + b1.data, (W1.data + cp.broadcast_to(b1.data, W1.data.shape))).all()"
   ]
  },
  {
   "cell_type": "code",
   "execution_count": 55,
   "metadata": {},
   "outputs": [
    {
     "data": {
      "text/plain": [
       "array([[0.6030403 , 0.66684794, 0.37418216, 0.9171768 ],\n",
       "       [0.288065  , 1.2853456 , 1.4501405 , 0.38355303],\n",
       "       [1.3007836 , 1.1838565 , 1.1036918 , 1.4846629 ],\n",
       "       [0.9056393 , 1.4407244 , 0.87813467, 1.1059633 ],\n",
       "       [0.8326863 , 0.50929624, 1.070485  , 1.0604064 ],\n",
       "       [1.3907222 , 1.8111255 , 1.6748353 , 1.0872527 ],\n",
       "       [0.91010684, 1.316112  , 0.94143826, 1.2087425 ],\n",
       "       [1.6476197 , 1.0820557 , 1.28969   , 1.4321547 ]], dtype=float32)"
      ]
     },
     "execution_count": 55,
     "metadata": {},
     "output_type": "execute_result"
    }
   ],
   "source": [
    "add_kernel = cp.RawKernel(r'''\n",
    "extern \"C\" __global__\n",
    "void my_add(const float* x1, const float* x2, float* y) {\n",
    "    int tid = blockDim.x * blockIdx.x + threadIdx.x;\n",
    "    y[tid] = x1[tid] + x2[tid];\n",
    "}\n",
    "''', 'my_add')\n",
    "x1 = cp.random.rand(8, 4, dtype=cp.float32)\n",
    "x2 = cp.random.rand(8, 4, dtype=cp.float32)\n",
    "y = cp.zeros((8, 4), dtype=cp.float32)\n",
    "add_kernel((8,), (4,), (x1, x2, y))  # grid, block and arguments\n",
    "y"
   ]
  },
  {
   "cell_type": "code",
   "execution_count": 45,
   "metadata": {},
   "outputs": [],
   "source": [
    "op = cp.zeros_like(W1.data, dtype=cp.float32)\n",
    "add_kernel((8,), (4,), (W1.data, W1.data, op))"
   ]
  },
  {
   "cell_type": "code",
   "execution_count": 46,
   "metadata": {},
   "outputs": [
    {
     "data": {
      "text/plain": [
       "array([[-0.72279434,  0.49182312, -0.84503936, -0.94332505],\n",
       "       [-0.09932568,  0.36995568, -0.24208627, -0.50442042],\n",
       "       [-0.59140988,  0.30673226,  0.48674038, -0.63207316],\n",
       "       [ 0.29528599,  0.26173904,  0.4779244 , -0.99388509],\n",
       "       [-0.83311475,  0.05841333, -0.47870296,  0.95822544],\n",
       "       [-0.55528299,  0.74879731, -0.84054571, -0.95877361],\n",
       "       [-0.06480113, -0.78090369,  0.62147077, -0.43344998],\n",
       "       [ 0.77427527,  0.12530763,  0.97989978, -0.51389571]])"
      ]
     },
     "execution_count": 46,
     "metadata": {},
     "output_type": "execute_result"
    }
   ],
   "source": [
    "W1.data + W1.data"
   ]
  },
  {
   "cell_type": "code",
   "execution_count": 47,
   "metadata": {},
   "outputs": [
    {
     "data": {
      "text/plain": [
       "array([[-8.45681274e-25, -3.36139703e+00, -1.57129448e-11,\n",
       "         3.24182296e+00],\n",
       "       [-4.89129164e+36, -3.42251945e+00,  3.51094650e-35,\n",
       "        -3.47166252e+00],\n",
       "       [ 1.22809394e+30, -2.64730263e+00, -1.50191240e-22,\n",
       "         3.11995554e+00],\n",
       "       [-1.34939306e+12, -2.98417234e+00,  1.69964080e+08,\n",
       "        -3.25221014e+00],\n",
       "       [ 6.69602744e+25, -3.29570484e+00,  3.68494101e+13,\n",
       "         3.05673218e+00],\n",
       "       [ 2.47553315e-20,  3.23674035e+00,  2.62557583e+36,\n",
       "        -3.31603646e+00],\n",
       "       [ 1.05471723e-03,  3.04528594e+00,  4.46479988e-26,\n",
       "         3.01173902e+00],\n",
       "       [ 2.32614111e-05,  3.22792435e+00,  1.63704647e-21,\n",
       "        -3.49694252e+00]], dtype=float32)"
      ]
     },
     "execution_count": 47,
     "metadata": {},
     "output_type": "execute_result"
    }
   ],
   "source": [
    "op"
   ]
  }
 ],
 "metadata": {
  "kernelspec": {
   "display_name": "base",
   "language": "python",
   "name": "python3"
  },
  "language_info": {
   "codemirror_mode": {
    "name": "ipython",
    "version": 3
   },
   "file_extension": ".py",
   "mimetype": "text/x-python",
   "name": "python",
   "nbconvert_exporter": "python",
   "pygments_lexer": "ipython3",
   "version": "3.11.10"
  }
 },
 "nbformat": 4,
 "nbformat_minor": 2
}
